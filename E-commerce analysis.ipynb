{
 "cells": [
  {
   "cell_type": "code",
   "execution_count": 1,
   "id": "97be7aaf",
   "metadata": {
    "_cell_guid": "b1076dfc-b9ad-4769-8c92-a6c4dae69d19",
    "_uuid": "8f2839f25d086af736a60e9eeb907d3b93b6e0e5",
    "execution": {
     "iopub.execute_input": "2023-03-26T13:26:46.288506Z",
     "iopub.status.busy": "2023-03-26T13:26:46.287975Z",
     "iopub.status.idle": "2023-03-26T13:26:46.305598Z",
     "shell.execute_reply": "2023-03-26T13:26:46.303541Z"
    },
    "papermill": {
     "duration": 0.02913,
     "end_time": "2023-03-26T13:26:46.310065",
     "exception": false,
     "start_time": "2023-03-26T13:26:46.280935",
     "status": "completed"
    },
    "tags": []
   },
   "outputs": [
    {
     "name": "stdout",
     "output_type": "stream",
     "text": [
      "/kaggle/input/e-commerce-shoppers-behaviour-understanding/test_data_v2.csv\n",
      "/kaggle/input/e-commerce-shoppers-behaviour-understanding/train_data_v2.csv\n",
      "/kaggle/input/e-commerce-shoppers-behaviour-understanding/sample.csv\n"
     ]
    }
   ],
   "source": [
    "# This Python 3 environment comes with many helpful analytics libraries installed\n",
    "# It is defined by the kaggle/python Docker image: https://github.com/kaggle/docker-python\n",
    "# For example, here's several helpful packages to load\n",
    "\n",
    "import numpy as np # linear algebra\n",
    "import pandas as pd # data processing, CSV file I/O (e.g. pd.read_csv)\n",
    "\n",
    "# Input data files are available in the read-only \"../input/\" directory\n",
    "# For example, running this (by clicking run or pressing Shift+Enter) will list all files under the input directory\n",
    "\n",
    "import os\n",
    "for dirname, _, filenames in os.walk('/kaggle/input'):\n",
    "    for filename in filenames:\n",
    "        print(os.path.join(dirname, filename))\n",
    "\n",
    "# You can write up to 20GB to the current directory (/kaggle/working/) that gets preserved as output when you create a version using \"Save & Run All\" \n",
    "# You can also write temporary files to /kaggle/temp/, but they won't be saved outside of the current session"
   ]
  },
  {
   "cell_type": "code",
   "execution_count": 2,
   "id": "b0609c6d",
   "metadata": {
    "execution": {
     "iopub.execute_input": "2023-03-26T13:26:46.321106Z",
     "iopub.status.busy": "2023-03-26T13:26:46.320320Z",
     "iopub.status.idle": "2023-03-26T13:26:46.419056Z",
     "shell.execute_reply": "2023-03-26T13:26:46.417873Z"
    },
    "papermill": {
     "duration": 0.107739,
     "end_time": "2023-03-26T13:26:46.422233",
     "exception": false,
     "start_time": "2023-03-26T13:26:46.314494",
     "status": "completed"
    },
    "tags": []
   },
   "outputs": [],
   "source": [
    "train=pd.read_csv('/kaggle/input/e-commerce-shoppers-behaviour-understanding/train_data_v2.csv')"
   ]
  },
  {
   "cell_type": "code",
   "execution_count": 3,
   "id": "f4ad82cd",
   "metadata": {
    "execution": {
     "iopub.execute_input": "2023-03-26T13:26:46.432701Z",
     "iopub.status.busy": "2023-03-26T13:26:46.432244Z",
     "iopub.status.idle": "2023-03-26T13:26:46.477276Z",
     "shell.execute_reply": "2023-03-26T13:26:46.475988Z"
    },
    "papermill": {
     "duration": 0.053478,
     "end_time": "2023-03-26T13:26:46.479923",
     "exception": false,
     "start_time": "2023-03-26T13:26:46.426445",
     "status": "completed"
    },
    "tags": []
   },
   "outputs": [
    {
     "data": {
      "text/html": [
       "<div>\n",
       "<style scoped>\n",
       "    .dataframe tbody tr th:only-of-type {\n",
       "        vertical-align: middle;\n",
       "    }\n",
       "\n",
       "    .dataframe tbody tr th {\n",
       "        vertical-align: top;\n",
       "    }\n",
       "\n",
       "    .dataframe thead th {\n",
       "        text-align: right;\n",
       "    }\n",
       "</style>\n",
       "<table border=\"1\" class=\"dataframe\">\n",
       "  <thead>\n",
       "    <tr style=\"text-align: right;\">\n",
       "      <th></th>\n",
       "      <th>HomePage</th>\n",
       "      <th>HomePage_Duration</th>\n",
       "      <th>LandingPage</th>\n",
       "      <th>LandingPage_Duration</th>\n",
       "      <th>ProductDescriptionPage</th>\n",
       "      <th>ProductDescriptionPage_Duration</th>\n",
       "      <th>GoogleMetric:Bounce Rates</th>\n",
       "      <th>GoogleMetric:Exit Rates</th>\n",
       "      <th>GoogleMetric:Page Values</th>\n",
       "      <th>SeasonalPurchase</th>\n",
       "      <th>...</th>\n",
       "      <th>SearchEngine</th>\n",
       "      <th>Zone</th>\n",
       "      <th>Type of Traffic</th>\n",
       "      <th>CustomerType</th>\n",
       "      <th>Gender</th>\n",
       "      <th>Cookies Setting</th>\n",
       "      <th>Education</th>\n",
       "      <th>Marital Status</th>\n",
       "      <th>WeekendPurchase</th>\n",
       "      <th>Made_Purchase</th>\n",
       "    </tr>\n",
       "  </thead>\n",
       "  <tbody>\n",
       "    <tr>\n",
       "      <th>0</th>\n",
       "      <td>0.0</td>\n",
       "      <td>0.0</td>\n",
       "      <td>0.0</td>\n",
       "      <td>0.0</td>\n",
       "      <td>1.0</td>\n",
       "      <td>0.000000</td>\n",
       "      <td>0.20</td>\n",
       "      <td>0.20</td>\n",
       "      <td>0.0</td>\n",
       "      <td>0.0</td>\n",
       "      <td>...</td>\n",
       "      <td>1.0</td>\n",
       "      <td>9.0</td>\n",
       "      <td>3.0</td>\n",
       "      <td>Returning_Visitor</td>\n",
       "      <td>Not Specified</td>\n",
       "      <td>Deny</td>\n",
       "      <td>Not Specified</td>\n",
       "      <td>Other</td>\n",
       "      <td>0.0</td>\n",
       "      <td>False</td>\n",
       "    </tr>\n",
       "    <tr>\n",
       "      <th>1</th>\n",
       "      <td>0.0</td>\n",
       "      <td>0.0</td>\n",
       "      <td>0.0</td>\n",
       "      <td>0.0</td>\n",
       "      <td>2.0</td>\n",
       "      <td>2.666667</td>\n",
       "      <td>0.05</td>\n",
       "      <td>0.14</td>\n",
       "      <td>0.0</td>\n",
       "      <td>0.0</td>\n",
       "      <td>...</td>\n",
       "      <td>2.0</td>\n",
       "      <td>2.0</td>\n",
       "      <td>4.0</td>\n",
       "      <td>Returning_Visitor</td>\n",
       "      <td>Female</td>\n",
       "      <td>Deny</td>\n",
       "      <td>Others</td>\n",
       "      <td>Married</td>\n",
       "      <td>0.0</td>\n",
       "      <td>False</td>\n",
       "    </tr>\n",
       "    <tr>\n",
       "      <th>2</th>\n",
       "      <td>0.0</td>\n",
       "      <td>0.0</td>\n",
       "      <td>0.0</td>\n",
       "      <td>0.0</td>\n",
       "      <td>10.0</td>\n",
       "      <td>627.500000</td>\n",
       "      <td>0.02</td>\n",
       "      <td>0.05</td>\n",
       "      <td>0.0</td>\n",
       "      <td>0.0</td>\n",
       "      <td>...</td>\n",
       "      <td>3.0</td>\n",
       "      <td>1.0</td>\n",
       "      <td>4.0</td>\n",
       "      <td>Returning_Visitor</td>\n",
       "      <td>Female</td>\n",
       "      <td>ALL</td>\n",
       "      <td>Others</td>\n",
       "      <td>Married</td>\n",
       "      <td>1.0</td>\n",
       "      <td>False</td>\n",
       "    </tr>\n",
       "    <tr>\n",
       "      <th>3</th>\n",
       "      <td>0.0</td>\n",
       "      <td>0.0</td>\n",
       "      <td>0.0</td>\n",
       "      <td>0.0</td>\n",
       "      <td>1.0</td>\n",
       "      <td>0.000000</td>\n",
       "      <td>0.20</td>\n",
       "      <td>0.20</td>\n",
       "      <td>0.0</td>\n",
       "      <td>0.4</td>\n",
       "      <td>...</td>\n",
       "      <td>4.0</td>\n",
       "      <td>3.0</td>\n",
       "      <td>3.0</td>\n",
       "      <td>Returning_Visitor</td>\n",
       "      <td>Male</td>\n",
       "      <td>ALL</td>\n",
       "      <td>Diploma</td>\n",
       "      <td>Single</td>\n",
       "      <td>0.0</td>\n",
       "      <td>False</td>\n",
       "    </tr>\n",
       "    <tr>\n",
       "      <th>4</th>\n",
       "      <td>1.0</td>\n",
       "      <td>0.0</td>\n",
       "      <td>0.0</td>\n",
       "      <td>0.0</td>\n",
       "      <td>0.0</td>\n",
       "      <td>0.000000</td>\n",
       "      <td>0.20</td>\n",
       "      <td>0.20</td>\n",
       "      <td>0.0</td>\n",
       "      <td>0.0</td>\n",
       "      <td>...</td>\n",
       "      <td>2.0</td>\n",
       "      <td>1.0</td>\n",
       "      <td>5.0</td>\n",
       "      <td>Returning_Visitor</td>\n",
       "      <td>Male</td>\n",
       "      <td>Deny</td>\n",
       "      <td>Diploma</td>\n",
       "      <td>Other</td>\n",
       "      <td>1.0</td>\n",
       "      <td>False</td>\n",
       "    </tr>\n",
       "  </tbody>\n",
       "</table>\n",
       "<p>5 rows × 22 columns</p>\n",
       "</div>"
      ],
      "text/plain": [
       "   HomePage  HomePage_Duration  LandingPage  LandingPage_Duration  \\\n",
       "0       0.0                0.0          0.0                   0.0   \n",
       "1       0.0                0.0          0.0                   0.0   \n",
       "2       0.0                0.0          0.0                   0.0   \n",
       "3       0.0                0.0          0.0                   0.0   \n",
       "4       1.0                0.0          0.0                   0.0   \n",
       "\n",
       "   ProductDescriptionPage  ProductDescriptionPage_Duration  \\\n",
       "0                     1.0                         0.000000   \n",
       "1                     2.0                         2.666667   \n",
       "2                    10.0                       627.500000   \n",
       "3                     1.0                         0.000000   \n",
       "4                     0.0                         0.000000   \n",
       "\n",
       "   GoogleMetric:Bounce Rates  GoogleMetric:Exit Rates  \\\n",
       "0                       0.20                     0.20   \n",
       "1                       0.05                     0.14   \n",
       "2                       0.02                     0.05   \n",
       "3                       0.20                     0.20   \n",
       "4                       0.20                     0.20   \n",
       "\n",
       "   GoogleMetric:Page Values  SeasonalPurchase  ... SearchEngine  Zone  \\\n",
       "0                       0.0               0.0  ...          1.0   9.0   \n",
       "1                       0.0               0.0  ...          2.0   2.0   \n",
       "2                       0.0               0.0  ...          3.0   1.0   \n",
       "3                       0.0               0.4  ...          4.0   3.0   \n",
       "4                       0.0               0.0  ...          2.0   1.0   \n",
       "\n",
       "   Type of Traffic       CustomerType         Gender Cookies Setting  \\\n",
       "0              3.0  Returning_Visitor  Not Specified            Deny   \n",
       "1              4.0  Returning_Visitor         Female            Deny   \n",
       "2              4.0  Returning_Visitor         Female             ALL   \n",
       "3              3.0  Returning_Visitor           Male             ALL   \n",
       "4              5.0  Returning_Visitor           Male            Deny   \n",
       "\n",
       "       Education Marital Status WeekendPurchase Made_Purchase  \n",
       "0  Not Specified          Other             0.0         False  \n",
       "1         Others        Married             0.0         False  \n",
       "2         Others        Married             1.0         False  \n",
       "3        Diploma         Single             0.0         False  \n",
       "4        Diploma          Other             1.0         False  \n",
       "\n",
       "[5 rows x 22 columns]"
      ]
     },
     "execution_count": 3,
     "metadata": {},
     "output_type": "execute_result"
    }
   ],
   "source": [
    "train.head()"
   ]
  },
  {
   "cell_type": "code",
   "execution_count": 4,
   "id": "bef171f5",
   "metadata": {
    "execution": {
     "iopub.execute_input": "2023-03-26T13:26:46.491552Z",
     "iopub.status.busy": "2023-03-26T13:26:46.490593Z",
     "iopub.status.idle": "2023-03-26T13:26:46.501129Z",
     "shell.execute_reply": "2023-03-26T13:26:46.499784Z"
    },
    "papermill": {
     "duration": 0.019599,
     "end_time": "2023-03-26T13:26:46.504037",
     "exception": false,
     "start_time": "2023-03-26T13:26:46.484438",
     "status": "completed"
    },
    "tags": []
   },
   "outputs": [
    {
     "data": {
      "text/plain": [
       "HomePage                           float64\n",
       "HomePage_Duration                  float64\n",
       "LandingPage                        float64\n",
       "LandingPage_Duration               float64\n",
       "ProductDescriptionPage             float64\n",
       "ProductDescriptionPage_Duration    float64\n",
       "GoogleMetric:Bounce Rates          float64\n",
       "GoogleMetric:Exit Rates            float64\n",
       "GoogleMetric:Page Values           float64\n",
       "SeasonalPurchase                   float64\n",
       "Month_SeasonalPurchase              object\n",
       "OS                                 float64\n",
       "SearchEngine                       float64\n",
       "Zone                               float64\n",
       "Type of Traffic                    float64\n",
       "CustomerType                        object\n",
       "Gender                              object\n",
       "Cookies Setting                     object\n",
       "Education                           object\n",
       "Marital Status                      object\n",
       "WeekendPurchase                    float64\n",
       "Made_Purchase                         bool\n",
       "dtype: object"
      ]
     },
     "execution_count": 4,
     "metadata": {},
     "output_type": "execute_result"
    }
   ],
   "source": [
    "train.dtypes"
   ]
  },
  {
   "cell_type": "code",
   "execution_count": 5,
   "id": "62b1e753",
   "metadata": {
    "execution": {
     "iopub.execute_input": "2023-03-26T13:26:46.515444Z",
     "iopub.status.busy": "2023-03-26T13:26:46.514974Z",
     "iopub.status.idle": "2023-03-26T13:26:46.530112Z",
     "shell.execute_reply": "2023-03-26T13:26:46.528952Z"
    },
    "papermill": {
     "duration": 0.023909,
     "end_time": "2023-03-26T13:26:46.532701",
     "exception": false,
     "start_time": "2023-03-26T13:26:46.508792",
     "status": "completed"
    },
    "tags": []
   },
   "outputs": [],
   "source": [
    "train=train.select_dtypes(include=['float64','bool'])\n",
    "train.fillna(0,inplace=True)"
   ]
  },
  {
   "cell_type": "code",
   "execution_count": 6,
   "id": "b7ec17db",
   "metadata": {
    "execution": {
     "iopub.execute_input": "2023-03-26T13:26:46.546240Z",
     "iopub.status.busy": "2023-03-26T13:26:46.544488Z",
     "iopub.status.idle": "2023-03-26T13:26:47.972406Z",
     "shell.execute_reply": "2023-03-26T13:26:47.971096Z"
    },
    "papermill": {
     "duration": 1.43787,
     "end_time": "2023-03-26T13:26:47.975521",
     "exception": false,
     "start_time": "2023-03-26T13:26:46.537651",
     "status": "completed"
    },
    "tags": []
   },
   "outputs": [],
   "source": [
    "from sklearn.ensemble import RandomForestClassifier\n",
    "from sklearn.linear_model import LogisticRegression"
   ]
  },
  {
   "cell_type": "code",
   "execution_count": 7,
   "id": "09cb6342",
   "metadata": {
    "execution": {
     "iopub.execute_input": "2023-03-26T13:26:47.986925Z",
     "iopub.status.busy": "2023-03-26T13:26:47.986458Z",
     "iopub.status.idle": "2023-03-26T13:26:47.999569Z",
     "shell.execute_reply": "2023-03-26T13:26:47.998279Z"
    },
    "papermill": {
     "duration": 0.022081,
     "end_time": "2023-03-26T13:26:48.002422",
     "exception": false,
     "start_time": "2023-03-26T13:26:47.980341",
     "status": "completed"
    },
    "tags": []
   },
   "outputs": [],
   "source": [
    "y_train=train['Made_Purchase']\n",
    "x_train=train.drop(columns=['Made_Purchase'])"
   ]
  },
  {
   "cell_type": "code",
   "execution_count": 8,
   "id": "bbfca2b5",
   "metadata": {
    "execution": {
     "iopub.execute_input": "2023-03-26T13:26:48.014078Z",
     "iopub.status.busy": "2023-03-26T13:26:48.013623Z",
     "iopub.status.idle": "2023-03-26T13:26:48.256446Z",
     "shell.execute_reply": "2023-03-26T13:26:48.255091Z"
    },
    "papermill": {
     "duration": 0.252055,
     "end_time": "2023-03-26T13:26:48.259249",
     "exception": false,
     "start_time": "2023-03-26T13:26:48.007194",
     "status": "completed"
    },
    "tags": []
   },
   "outputs": [
    {
     "data": {
      "text/plain": [
       "LogisticRegression(max_iter=1000, solver='liblinear')"
      ]
     },
     "execution_count": 8,
     "metadata": {},
     "output_type": "execute_result"
    }
   ],
   "source": [
    "#model=RandomForestClassifier()\n",
    "model=LogisticRegression(max_iter=1000, solver='liblinear')\n",
    "model.fit(x_train,y_train)"
   ]
  },
  {
   "cell_type": "code",
   "execution_count": 9,
   "id": "df8f7410",
   "metadata": {
    "execution": {
     "iopub.execute_input": "2023-03-26T13:26:48.271108Z",
     "iopub.status.busy": "2023-03-26T13:26:48.270603Z",
     "iopub.status.idle": "2023-03-26T13:26:48.284293Z",
     "shell.execute_reply": "2023-03-26T13:26:48.282268Z"
    },
    "papermill": {
     "duration": 0.025601,
     "end_time": "2023-03-26T13:26:48.289811",
     "exception": false,
     "start_time": "2023-03-26T13:26:48.264210",
     "status": "completed"
    },
    "tags": []
   },
   "outputs": [],
   "source": [
    "y_pred=model.predict(x_train)"
   ]
  },
  {
   "cell_type": "code",
   "execution_count": 10,
   "id": "e181f66d",
   "metadata": {
    "execution": {
     "iopub.execute_input": "2023-03-26T13:26:48.317589Z",
     "iopub.status.busy": "2023-03-26T13:26:48.316746Z",
     "iopub.status.idle": "2023-03-26T13:26:48.326243Z",
     "shell.execute_reply": "2023-03-26T13:26:48.324060Z"
    },
    "papermill": {
     "duration": 0.02851,
     "end_time": "2023-03-26T13:26:48.330663",
     "exception": false,
     "start_time": "2023-03-26T13:26:48.302153",
     "status": "completed"
    },
    "tags": []
   },
   "outputs": [],
   "source": [
    "from sklearn.metrics import f1_score"
   ]
  },
  {
   "cell_type": "code",
   "execution_count": 11,
   "id": "e4170e04",
   "metadata": {
    "execution": {
     "iopub.execute_input": "2023-03-26T13:26:48.359344Z",
     "iopub.status.busy": "2023-03-26T13:26:48.358498Z",
     "iopub.status.idle": "2023-03-26T13:26:48.384047Z",
     "shell.execute_reply": "2023-03-26T13:26:48.382298Z"
    },
    "papermill": {
     "duration": 0.044867,
     "end_time": "2023-03-26T13:26:48.388756",
     "exception": false,
     "start_time": "2023-03-26T13:26:48.343889",
     "status": "completed"
    },
    "tags": []
   },
   "outputs": [
    {
     "data": {
      "text/plain": [
       "0.2884426344614521"
      ]
     },
     "execution_count": 11,
     "metadata": {},
     "output_type": "execute_result"
    }
   ],
   "source": [
    "f1_score(y_train,y_pred)"
   ]
  },
  {
   "cell_type": "code",
   "execution_count": 12,
   "id": "bf20417d",
   "metadata": {
    "execution": {
     "iopub.execute_input": "2023-03-26T13:26:48.407667Z",
     "iopub.status.busy": "2023-03-26T13:26:48.407210Z",
     "iopub.status.idle": "2023-03-26T13:26:48.448319Z",
     "shell.execute_reply": "2023-03-26T13:26:48.447199Z"
    },
    "papermill": {
     "duration": 0.050666,
     "end_time": "2023-03-26T13:26:48.451285",
     "exception": false,
     "start_time": "2023-03-26T13:26:48.400619",
     "status": "completed"
    },
    "tags": []
   },
   "outputs": [],
   "source": [
    "test=pd.read_csv('/kaggle/input/e-commerce-shoppers-behaviour-understanding/test_data_v2.csv')"
   ]
  },
  {
   "cell_type": "code",
   "execution_count": 13,
   "id": "e651230e",
   "metadata": {
    "execution": {
     "iopub.execute_input": "2023-03-26T13:26:48.464275Z",
     "iopub.status.busy": "2023-03-26T13:26:48.463401Z",
     "iopub.status.idle": "2023-03-26T13:26:48.473252Z",
     "shell.execute_reply": "2023-03-26T13:26:48.471873Z"
    },
    "papermill": {
     "duration": 0.019677,
     "end_time": "2023-03-26T13:26:48.476221",
     "exception": false,
     "start_time": "2023-03-26T13:26:48.456544",
     "status": "completed"
    },
    "tags": []
   },
   "outputs": [
    {
     "data": {
      "text/plain": [
       "HomePage                           float64\n",
       "HomePage_Duration                  float64\n",
       "LandingPage                        float64\n",
       "LandingPage_Duration               float64\n",
       "ProductDescriptionPage             float64\n",
       "ProductDescriptionPage_Duration    float64\n",
       "GoogleMetric:Bounce Rates          float64\n",
       "GoogleMetric:Exit Rates            float64\n",
       "GoogleMetric:Page Values           float64\n",
       "SeasonalPurchase                   float64\n",
       "Month_SeasonalPurchase              object\n",
       "OS                                 float64\n",
       "SearchEngine                       float64\n",
       "Zone                               float64\n",
       "Type of Traffic                    float64\n",
       "CustomerType                        object\n",
       "Gender                              object\n",
       "Cookies Setting                     object\n",
       "Education                           object\n",
       "Marital Status                      object\n",
       "WeekendPurchase                    float64\n",
       "dtype: object"
      ]
     },
     "execution_count": 13,
     "metadata": {},
     "output_type": "execute_result"
    }
   ],
   "source": [
    "test.dtypes"
   ]
  },
  {
   "cell_type": "code",
   "execution_count": 14,
   "id": "149cd18d",
   "metadata": {
    "execution": {
     "iopub.execute_input": "2023-03-26T13:26:48.489731Z",
     "iopub.status.busy": "2023-03-26T13:26:48.488866Z",
     "iopub.status.idle": "2023-03-26T13:26:48.497830Z",
     "shell.execute_reply": "2023-03-26T13:26:48.496890Z"
    },
    "papermill": {
     "duration": 0.018842,
     "end_time": "2023-03-26T13:26:48.500552",
     "exception": false,
     "start_time": "2023-03-26T13:26:48.481710",
     "status": "completed"
    },
    "tags": []
   },
   "outputs": [],
   "source": [
    "test=test.select_dtypes(include=['float64','bool'])\n",
    "test.fillna(0,inplace=True)"
   ]
  },
  {
   "cell_type": "code",
   "execution_count": 15,
   "id": "4b2965df",
   "metadata": {
    "execution": {
     "iopub.execute_input": "2023-03-26T13:26:48.514181Z",
     "iopub.status.busy": "2023-03-26T13:26:48.513121Z",
     "iopub.status.idle": "2023-03-26T13:26:48.526318Z",
     "shell.execute_reply": "2023-03-26T13:26:48.524613Z"
    },
    "papermill": {
     "duration": 0.025375,
     "end_time": "2023-03-26T13:26:48.531590",
     "exception": false,
     "start_time": "2023-03-26T13:26:48.506215",
     "status": "completed"
    },
    "tags": []
   },
   "outputs": [],
   "source": [
    "prediction=model.predict(test)"
   ]
  },
  {
   "cell_type": "code",
   "execution_count": 16,
   "id": "b085875c",
   "metadata": {
    "execution": {
     "iopub.execute_input": "2023-03-26T13:26:48.563140Z",
     "iopub.status.busy": "2023-03-26T13:26:48.562273Z",
     "iopub.status.idle": "2023-03-26T13:26:48.628718Z",
     "shell.execute_reply": "2023-03-26T13:26:48.626869Z"
    },
    "papermill": {
     "duration": 0.088649,
     "end_time": "2023-03-26T13:26:48.634742",
     "exception": false,
     "start_time": "2023-03-26T13:26:48.546093",
     "status": "completed"
    },
    "tags": []
   },
   "outputs": [],
   "source": [
    "submission=pd.DataFrame(columns=['id','Made_Purchase'])\n",
    "submission['id']=[i for i in range(len(prediction))]\n",
    "submission['Made_Purchase']=prediction\n",
    "submission.to_csv('submission.csv',index=False)"
   ]
  }
 ],
 "metadata": {
  "kernelspec": {
   "display_name": "Python 3",
   "language": "python",
   "name": "python3"
  },
  "language_info": {
   "codemirror_mode": {
    "name": "ipython",
    "version": 3
   },
   "file_extension": ".py",
   "mimetype": "text/x-python",
   "name": "python",
   "nbconvert_exporter": "python",
   "pygments_lexer": "ipython3",
   "version": "3.7.12"
  },
  "papermill": {
   "default_parameters": {},
   "duration": 13.989665,
   "end_time": "2023-03-26T13:26:49.570219",
   "environment_variables": {},
   "exception": null,
   "input_path": "__notebook__.ipynb",
   "output_path": "__notebook__.ipynb",
   "parameters": {},
   "start_time": "2023-03-26T13:26:35.580554",
   "version": "2.3.4"
  }
 },
 "nbformat": 4,
 "nbformat_minor": 5
}
